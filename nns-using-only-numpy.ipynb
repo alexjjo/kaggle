{
 "cells": [
  {
   "cell_type": "code",
   "execution_count": 1,
   "id": "10e62549",
   "metadata": {
    "_cell_guid": "b1076dfc-b9ad-4769-8c92-a6c4dae69d19",
    "_uuid": "8f2839f25d086af736a60e9eeb907d3b93b6e0e5",
    "execution": {
     "iopub.execute_input": "2022-07-22T21:37:19.875767Z",
     "iopub.status.busy": "2022-07-22T21:37:19.875180Z",
     "iopub.status.idle": "2022-07-22T21:37:19.895039Z",
     "shell.execute_reply": "2022-07-22T21:37:19.893511Z"
    },
    "papermill": {
     "duration": 0.028515,
     "end_time": "2022-07-22T21:37:19.897661",
     "exception": false,
     "start_time": "2022-07-22T21:37:19.869146",
     "status": "completed"
    },
    "tags": []
   },
   "outputs": [
    {
     "name": "stdout",
     "output_type": "stream",
     "text": [
      "/kaggle/input/digit-recognizer/sample_submission.csv\n",
      "/kaggle/input/digit-recognizer/train.csv\n",
      "/kaggle/input/digit-recognizer/test.csv\n"
     ]
    }
   ],
   "source": [
    "# This Python 3 environment comes with many helpful analytics libraries installed\n",
    "# It is defined by the kaggle/python Docker image: https://github.com/kaggle/docker-python\n",
    "# For example, here's several helpful packages to load\n",
    "\n",
    "import numpy as np # linear algebra\n",
    "import pandas as pd # data processing, CSV file I/O (e.g. pd.read_csv)\n",
    "\n",
    "# Input data files are available in the read-only \"../input/\" directory\n",
    "# For example, running this (by clicking run or pressing Shift+Enter) will list all files under the input directory\n",
    "\n",
    "import os\n",
    "for dirname, _, filenames in os.walk('/kaggle/input'):\n",
    "    for filename in filenames:\n",
    "        print(os.path.join(dirname, filename))\n",
    "\n",
    "# You can write up to 20GB to the current directory (/kaggle/working/) that gets preserved as output when you create a version using \"Save & Run All\" \n",
    "# You can also write temporary files to /kaggle/temp/, but they won't be saved outside of the current session"
   ]
  },
  {
   "cell_type": "code",
   "execution_count": 2,
   "id": "8684d91d",
   "metadata": {
    "execution": {
     "iopub.execute_input": "2022-07-22T21:37:19.906967Z",
     "iopub.status.busy": "2022-07-22T21:37:19.906385Z",
     "iopub.status.idle": "2022-07-22T21:37:23.924775Z",
     "shell.execute_reply": "2022-07-22T21:37:23.923504Z"
    },
    "papermill": {
     "duration": 4.026941,
     "end_time": "2022-07-22T21:37:23.928408",
     "exception": false,
     "start_time": "2022-07-22T21:37:19.901467",
     "status": "completed"
    },
    "tags": []
   },
   "outputs": [
    {
     "name": "stdout",
     "output_type": "stream",
     "text": [
      "(42000, 785)\n"
     ]
    }
   ],
   "source": [
    "train_df = pd.read_csv('/kaggle/input/digit-recognizer/train.csv')\n",
    "train_df = train_df.sample(frac=1) #shuffle rows of dataframe\n",
    "print(train_df.shape)\n",
    "train_data = np.array(train_df) #convert to NumPy array"
   ]
  },
  {
   "cell_type": "code",
   "execution_count": 3,
   "id": "8284ca6d",
   "metadata": {
    "execution": {
     "iopub.execute_input": "2022-07-22T21:37:23.937991Z",
     "iopub.status.busy": "2022-07-22T21:37:23.937655Z",
     "iopub.status.idle": "2022-07-22T21:37:24.010506Z",
     "shell.execute_reply": "2022-07-22T21:37:24.009107Z"
    },
    "papermill": {
     "duration": 0.080299,
     "end_time": "2022-07-22T21:37:24.013188",
     "exception": false,
     "start_time": "2022-07-22T21:37:23.932889",
     "status": "completed"
    },
    "tags": []
   },
   "outputs": [],
   "source": [
    "## 42,000 samples split into 80% for train, 20% for val. 785 columns, 784 features (28*28), 1 target label\n",
    "train_X = train_data[:33600, 1:].T\n",
    "train_y = train_data[:33600, 0].T\n",
    "train_X = train_X / 255.\n",
    "val_X = train_data[33600:, 1:].T\n",
    "val_y = train_data[33600:, 0].T\n",
    "val_X = val_X / 255."
   ]
  },
  {
   "cell_type": "code",
   "execution_count": 4,
   "id": "240cd048",
   "metadata": {
    "execution": {
     "iopub.execute_input": "2022-07-22T21:37:24.023711Z",
     "iopub.status.busy": "2022-07-22T21:37:24.023381Z",
     "iopub.status.idle": "2022-07-22T21:37:24.051584Z",
     "shell.execute_reply": "2022-07-22T21:37:24.050148Z"
    },
    "papermill": {
     "duration": 0.035863,
     "end_time": "2022-07-22T21:37:24.054366",
     "exception": false,
     "start_time": "2022-07-22T21:37:24.018503",
     "status": "completed"
    },
    "tags": []
   },
   "outputs": [],
   "source": [
    "def initialise_net(layer_sizes):\n",
    "    #takes list of number of nodes in each 4 layers (layers 0 and 3 (input+output) are bounded)\n",
    "    layer1_weights = np.random.rand(layer_sizes[1], layer_sizes[0]) - 0.5\n",
    "    layer2_weights = np.random.rand(layer_sizes[2], layer_sizes[1]) - 0.5\n",
    "    layer3_weights = np.random.rand(layer_sizes[3], layer_sizes[2]) - 0.5\n",
    "    layer1_bias = np.random.rand(layer_sizes[1], 1) - 0.5\n",
    "    layer2_bias = np.random.rand(layer_sizes[2], 1) - 0.5\n",
    "    layer3_bias = np.random.rand(layer_sizes[3], 1) - 0.5\n",
    "    return layer1_weights, layer2_weights, layer3_weights, layer1_bias, layer2_bias, layer3_bias\n",
    "\n",
    "def relu(z):\n",
    "    return np.maximum(z, 0)\n",
    "\n",
    "def antirelu(z):\n",
    "    return z > 0\n",
    "\n",
    "def mish(z):\n",
    "    return z*(np.tanh(np.log(1+np.exp(z))))\n",
    "\n",
    "def sech(z):\n",
    "    return 1/np.cosh(z)\n",
    "\n",
    "def antimish(z):\n",
    "    return np.tanh(np.log(1+np.exp(z)))+((z*np.exp(z)*(sech(1+np.exp(z))**2))/(1+np.exp(z)))\n",
    "\n",
    "def softmax(z):\n",
    "    \"\"\"Compute softmax values for each sets of scores in x.\"\"\"\n",
    "    exp = np.exp(z - np.max(z)) \n",
    "    return exp / exp.sum(axis=0)    \n",
    "\n",
    "def forward(l1_weights, l2_weights, l3_weights, l1_bias, l2_bias, l3_bias, X, activation = \"ReLU\", output = \"prob\"):\n",
    "    z1 = l1_weights.dot(X) + l1_bias\n",
    "    if (activation == \"ReLU\"):\n",
    "        act1 = relu(z1)\n",
    "    else:\n",
    "        act1 = mish(z1)\n",
    "    z2 = l2_weights.dot(act1) + l2_bias\n",
    "    if (activation == \"ReLU\"):\n",
    "        act2 = relu(z2)\n",
    "    else:\n",
    "        act2 = mish(z2)\n",
    "    z3 = l3_weights.dot(act2) + l3_bias\n",
    "    if (output == \"prob\"):\n",
    "        out = softmax(z3)\n",
    "    else:\n",
    "        out = z3\n",
    "    return z1, act1, z2, act2, z3, out\n",
    "\n",
    "def one_hot(Y):\n",
    "    one_hot_Y = np.zeros((Y.size, Y.max() + 1))\n",
    "    one_hot_Y[np.arange(Y.size), Y] = 1\n",
    "    one_hot_Y = one_hot_Y.T\n",
    "    return one_hot_Y\n",
    "\n",
    "def backward(z1, act1, z2, act2, z3, out, l1_weights, l2_weights, l3_weights, X, Y, activation = \"ReLU\"):\n",
    "    m = Y.size\n",
    "    Y = one_hot(Y)\n",
    "    d_z3 = 2*(out - Y)\n",
    "    d_l3_weights = 1/m * (d_z3.dot(act2.T))\n",
    "    d_l3_bias = 1/m * np.sum(d_z3,1)\n",
    "    if (activation == \"ReLU\"):\n",
    "        d_z2 = l3_weights.T.dot(d_z3) * antirelu(z2)\n",
    "    else:\n",
    "        d_z2 = l3_weights.T.dot(d_z3) * antimish(z2)\n",
    "    d_l2_weights = 1/m * d_z2.dot(act1.T)\n",
    "    d_l2_bias = 1/m * np.sum(d_z2,1)\n",
    "    if (activation == \"ReLU\"):\n",
    "        d_z1 = l2_weights.T.dot(d_z2) * antirelu(z1)\n",
    "    else:\n",
    "        d_z1 = l2_weights.T.dot(d_z2) * antimish(z1)\n",
    "    d_l1_weights = 1/m * d_z1.dot(X.T)\n",
    "    d_l1_bias = 1/m * np.sum(d_z1,1)\n",
    "    return d_l1_weights, d_l2_weights, d_l3_weights, d_l1_bias, d_l2_bias, d_l3_bias\n",
    "\n",
    "def update_net(layer1_weights, layer2_weights, layer3_weights, layer1_bias, layer2_bias, layer3_bias,\n",
    "                  d_l1_weights, d_l2_weights, d_l3_weights, d_l1_bias, d_l2_bias, d_l3_bias, lr):\n",
    "    layer1_weights = layer1_weights - lr*d_l1_weights\n",
    "    layer1_bias = layer1_bias - lr*np.reshape(d_l1_bias, (layer1_bias.shape))\n",
    "    layer2_weights = layer2_weights - lr*d_l2_weights\n",
    "    layer2_bias = layer2_bias - lr*np.reshape(d_l2_bias, (layer2_bias.shape))\n",
    "    layer3_weights = layer3_weights - lr*d_l3_weights\n",
    "    layer3_bias = layer3_bias - lr*np.reshape(d_l3_bias, (layer3_bias.shape))\n",
    "    return layer1_weights, layer2_weights, layer3_weights, layer1_bias, layer2_bias, layer3_bias\n",
    "\n",
    "def predict(out):\n",
    "    return np.argmax(out, 0)\n",
    "\n",
    "def get_accuracy(predictions, Y):\n",
    "    print(predictions, Y)\n",
    "    return np.sum(predictions == Y) / Y.size\n",
    "\n",
    "def gradient_descent(X, Y, lr, n_epochs, layer_sizes, activation):\n",
    "    layer1_weights, layer2_weights, layer3_weights, layer1_bias, layer2_bias, layer3_bias = initialise_net(layer_sizes)\n",
    "    for i in range(n_epochs):\n",
    "        z1, act1, z2, act2, z3, out = forward(layer1_weights, layer2_weights, layer3_weights, layer1_bias, layer2_bias, layer3_bias, X, activation = activation, output = \"prob\")\n",
    "        d_l1_weights, d_l2_weights, d_l3_weights, d_l1_bias, d_l2_bias, d_l3_bias = backward(z1, act1, z2, act2, z3, out, layer1_weights, layer2_weights, layer3_weights, X, Y, activation = activation)\n",
    "        layer1_weights, layer2_weights, layer3_weights, layer1_bias, layer2_bias, layer3_bias = update_net(layer1_weights, layer2_weights, layer3_weights, layer1_bias, layer2_bias, layer3_bias,\n",
    "                  d_l1_weights, d_l2_weights, d_l3_weights, d_l1_bias, d_l2_bias, d_l3_bias, lr)\n",
    "        if i % 25 == 0:\n",
    "            print(\"Iteration: \", i)\n",
    "            predictions = predict(out)\n",
    "            print(get_accuracy(predictions, Y))\n",
    "    return layer1_weights, layer2_weights, layer3_weights, layer1_bias, layer2_bias, layer3_bias"
   ]
  },
  {
   "cell_type": "code",
   "execution_count": 5,
   "id": "18717b02",
   "metadata": {
    "execution": {
     "iopub.execute_input": "2022-07-22T21:37:24.067966Z",
     "iopub.status.busy": "2022-07-22T21:37:24.067628Z",
     "iopub.status.idle": "2022-07-22T21:44:40.013373Z",
     "shell.execute_reply": "2022-07-22T21:44:40.012639Z"
    },
    "papermill": {
     "duration": 435.95661,
     "end_time": "2022-07-22T21:44:40.017024",
     "exception": false,
     "start_time": "2022-07-22T21:37:24.060414",
     "status": "completed"
    },
    "tags": []
   },
   "outputs": [
    {
     "name": "stderr",
     "output_type": "stream",
     "text": [
      "/opt/conda/lib/python3.7/site-packages/ipykernel_launcher.py:21: RuntimeWarning: overflow encountered in cosh\n"
     ]
    },
    {
     "name": "stdout",
     "output_type": "stream",
     "text": [
      "Iteration:  0\n",
      "[1 4 1 ... 9 4 2] [5 7 5 ... 9 3 9]\n",
      "0.10407738095238095\n",
      "Iteration:  25\n",
      "[5 0 8 ... 7 3 2] [5 7 5 ... 9 3 9]\n",
      "0.39922619047619046\n",
      "Iteration:  50\n",
      "[5 6 8 ... 7 3 2] [5 7 5 ... 9 3 9]\n",
      "0.5433333333333333\n",
      "Iteration:  75\n",
      "[8 4 8 ... 7 3 6] [5 7 5 ... 9 3 9]\n",
      "0.6330059523809524\n",
      "Iteration:  100\n",
      "[8 9 8 ... 7 3 6] [5 7 5 ... 9 3 9]\n",
      "0.7023511904761904\n",
      "Iteration:  125\n",
      "[8 9 8 ... 7 3 4] [5 7 5 ... 9 3 9]\n",
      "0.7517261904761905\n",
      "Iteration:  150\n",
      "[8 9 8 ... 9 3 4] [5 7 5 ... 9 3 9]\n",
      "0.784345238095238\n",
      "Iteration:  175\n",
      "[8 9 8 ... 9 3 4] [5 7 5 ... 9 3 9]\n",
      "0.8096130952380952\n",
      "Iteration:  200\n",
      "[8 9 5 ... 9 3 4] [5 7 5 ... 9 3 9]\n",
      "0.8260119047619048\n",
      "Iteration:  225\n",
      "[8 9 5 ... 9 3 4] [5 7 5 ... 9 3 9]\n",
      "0.8369642857142857\n",
      "Iteration:  250\n",
      "[8 7 5 ... 9 3 4] [5 7 5 ... 9 3 9]\n",
      "0.8469642857142857\n",
      "Iteration:  275\n",
      "[8 7 5 ... 9 3 4] [5 7 5 ... 9 3 9]\n",
      "0.8538392857142857\n",
      "Iteration:  300\n",
      "[8 7 5 ... 9 3 4] [5 7 5 ... 9 3 9]\n",
      "0.8601785714285715\n",
      "Iteration:  325\n",
      "[8 7 5 ... 9 3 4] [5 7 5 ... 9 3 9]\n",
      "0.8652678571428571\n",
      "Iteration:  350\n",
      "[8 7 8 ... 9 3 4] [5 7 5 ... 9 3 9]\n",
      "0.8247023809523809\n",
      "Iteration:  375\n",
      "[8 7 5 ... 9 3 4] [5 7 5 ... 9 3 9]\n",
      "0.8732142857142857\n",
      "Iteration:  400\n",
      "[8 7 5 ... 9 3 4] [5 7 5 ... 9 3 9]\n",
      "0.8763988095238096\n",
      "Iteration:  425\n",
      "[8 7 5 ... 9 3 4] [5 7 5 ... 9 3 9]\n",
      "0.8797619047619047\n",
      "Iteration:  450\n",
      "[8 7 5 ... 9 3 4] [5 7 5 ... 9 3 9]\n",
      "0.8829166666666667\n",
      "Iteration:  475\n",
      "[8 7 5 ... 9 3 4] [5 7 5 ... 9 3 9]\n",
      "0.8856547619047619\n",
      "Iteration:  500\n",
      "[8 7 5 ... 9 3 4] [5 7 5 ... 9 3 9]\n",
      "0.8877380952380952\n",
      "Iteration:  525\n",
      "[2 7 5 ... 9 3 4] [5 7 5 ... 9 3 9]\n",
      "0.8903869047619047\n",
      "Iteration:  550\n",
      "[2 7 5 ... 9 3 4] [5 7 5 ... 9 3 9]\n",
      "0.8922916666666667\n",
      "Iteration:  575\n",
      "[2 7 5 ... 9 3 4] [5 7 5 ... 9 3 9]\n",
      "0.8941071428571429\n",
      "Iteration:  600\n",
      "[8 7 5 ... 9 3 4] [5 7 5 ... 9 3 9]\n",
      "0.8920238095238096\n",
      "Iteration:  625\n",
      "[2 7 5 ... 9 3 4] [5 7 5 ... 9 3 9]\n",
      "0.8970535714285715\n",
      "Iteration:  650\n",
      "[2 7 5 ... 9 3 4] [5 7 5 ... 9 3 9]\n",
      "0.8992261904761905\n",
      "Iteration:  675\n",
      "[2 7 5 ... 9 3 4] [5 7 5 ... 9 3 9]\n",
      "0.9006547619047619\n",
      "Iteration:  700\n",
      "[2 7 5 ... 9 3 4] [5 7 5 ... 9 3 9]\n",
      "0.9016369047619047\n",
      "Iteration:  725\n",
      "[2 7 5 ... 9 3 4] [5 7 5 ... 9 3 9]\n",
      "0.9028273809523809\n",
      "Iteration:  750\n",
      "[2 7 5 ... 9 3 4] [5 7 5 ... 9 3 9]\n",
      "0.9039285714285714\n",
      "Iteration:  775\n",
      "[2 7 5 ... 9 3 4] [5 7 5 ... 9 3 9]\n",
      "0.9050297619047619\n",
      "Iteration:  800\n",
      "[2 7 5 ... 9 3 4] [5 7 5 ... 9 3 9]\n",
      "0.9061904761904762\n",
      "Iteration:  825\n",
      "[2 7 5 ... 9 3 4] [5 7 5 ... 9 3 9]\n",
      "0.9075595238095238\n",
      "Iteration:  850\n",
      "[2 7 5 ... 9 3 4] [5 7 5 ... 9 3 9]\n",
      "0.90875\n",
      "Iteration:  875\n",
      "[2 7 5 ... 9 3 4] [5 7 5 ... 9 3 9]\n",
      "0.9099702380952381\n",
      "Iteration:  900\n",
      "[5 7 5 ... 9 3 4] [5 7 5 ... 9 3 9]\n",
      "0.9111011904761904\n",
      "Iteration:  925\n",
      "[5 7 5 ... 9 3 4] [5 7 5 ... 9 3 9]\n",
      "0.9121428571428571\n",
      "Iteration:  950\n",
      "[5 7 5 ... 9 3 4] [5 7 5 ... 9 3 9]\n",
      "0.9130059523809524\n",
      "Iteration:  975\n",
      "[5 7 5 ... 9 3 9] [5 7 5 ... 9 3 9]\n",
      "0.9139583333333333\n",
      "Iteration:  1000\n",
      "[5 7 5 ... 9 3 9] [5 7 5 ... 9 3 9]\n",
      "0.9145238095238095\n"
     ]
    }
   ],
   "source": [
    "layer1_weights, layer2_weights, layer3_weights, layer1_bias, layer2_bias, layer3_bias = gradient_descent(\n",
    "                                                                                            train_X, \n",
    "                                                                                            train_y, \n",
    "                                                                                            n_epochs=1001, \n",
    "                                                                                            lr=0.075,\n",
    "                                                                                            layer_sizes=[784,16,16,10],\n",
    "                                                                                            activation=\"Mish\")"
   ]
  },
  {
   "cell_type": "code",
   "execution_count": 6,
   "id": "1260f3f6",
   "metadata": {
    "execution": {
     "iopub.execute_input": "2022-07-22T21:44:40.041683Z",
     "iopub.status.busy": "2022-07-22T21:44:40.040708Z",
     "iopub.status.idle": "2022-07-22T21:44:40.112465Z",
     "shell.execute_reply": "2022-07-22T21:44:40.111677Z"
    },
    "papermill": {
     "duration": 0.08636,
     "end_time": "2022-07-22T21:44:40.114890",
     "exception": false,
     "start_time": "2022-07-22T21:44:40.028530",
     "status": "completed"
    },
    "tags": []
   },
   "outputs": [
    {
     "name": "stdout",
     "output_type": "stream",
     "text": [
      "[6 0 1 ... 6 9 8] [6 0 1 ... 6 9 8]\n"
     ]
    },
    {
     "data": {
      "text/plain": [
       "0.906547619047619"
      ]
     },
     "execution_count": 6,
     "metadata": {},
     "output_type": "execute_result"
    }
   ],
   "source": [
    "def make_predictions(layer1_weights, layer2_weights, layer3_weights, layer1_bias, layer2_bias, layer3_bias, X, activation = \"ReLU\", output = \"prob\"):\n",
    "    #_, _, _, A2 = forward_prop(W1, b1, W2, b2, X)\n",
    "    z1, act1, z2, act2, z3, out = forward(layer1_weights, layer2_weights, layer3_weights, layer1_bias, layer2_bias, layer3_bias, X, activation = activation, output = \"prob\")\n",
    "    predictions = predict(out)\n",
    "    return predictions\n",
    "\n",
    "val_predictions = make_predictions(layer1_weights, layer2_weights, layer3_weights, layer1_bias, layer2_bias, layer3_bias, val_X, activation = \"mish\", output = \"prob\")\n",
    "get_accuracy(val_predictions, val_y)"
   ]
  },
  {
   "cell_type": "code",
   "execution_count": 7,
   "id": "68810dd2",
   "metadata": {
    "execution": {
     "iopub.execute_input": "2022-07-22T21:44:40.133894Z",
     "iopub.status.busy": "2022-07-22T21:44:40.132780Z",
     "iopub.status.idle": "2022-07-22T21:44:42.126864Z",
     "shell.execute_reply": "2022-07-22T21:44:42.125090Z"
    },
    "papermill": {
     "duration": 2.005523,
     "end_time": "2022-07-22T21:44:42.129432",
     "exception": false,
     "start_time": "2022-07-22T21:44:40.123909",
     "status": "completed"
    },
    "tags": []
   },
   "outputs": [],
   "source": [
    "sample_submission = pd.read_csv('/kaggle/input/digit-recognizer/sample_submission.csv')\n",
    "test_df = pd.read_csv('/kaggle/input/digit-recognizer/test.csv')"
   ]
  },
  {
   "cell_type": "code",
   "execution_count": 8,
   "id": "3b5c74bd",
   "metadata": {
    "execution": {
     "iopub.execute_input": "2022-07-22T21:44:42.143132Z",
     "iopub.status.busy": "2022-07-22T21:44:42.142687Z",
     "iopub.status.idle": "2022-07-22T21:44:42.161691Z",
     "shell.execute_reply": "2022-07-22T21:44:42.160149Z"
    },
    "papermill": {
     "duration": 0.02866,
     "end_time": "2022-07-22T21:44:42.164018",
     "exception": false,
     "start_time": "2022-07-22T21:44:42.135358",
     "status": "completed"
    },
    "tags": []
   },
   "outputs": [
    {
     "data": {
      "text/html": [
       "<div>\n",
       "<style scoped>\n",
       "    .dataframe tbody tr th:only-of-type {\n",
       "        vertical-align: middle;\n",
       "    }\n",
       "\n",
       "    .dataframe tbody tr th {\n",
       "        vertical-align: top;\n",
       "    }\n",
       "\n",
       "    .dataframe thead th {\n",
       "        text-align: right;\n",
       "    }\n",
       "</style>\n",
       "<table border=\"1\" class=\"dataframe\">\n",
       "  <thead>\n",
       "    <tr style=\"text-align: right;\">\n",
       "      <th></th>\n",
       "      <th>ImageId</th>\n",
       "      <th>Label</th>\n",
       "    </tr>\n",
       "  </thead>\n",
       "  <tbody>\n",
       "    <tr>\n",
       "      <th>0</th>\n",
       "      <td>1</td>\n",
       "      <td>0</td>\n",
       "    </tr>\n",
       "    <tr>\n",
       "      <th>1</th>\n",
       "      <td>2</td>\n",
       "      <td>0</td>\n",
       "    </tr>\n",
       "    <tr>\n",
       "      <th>2</th>\n",
       "      <td>3</td>\n",
       "      <td>0</td>\n",
       "    </tr>\n",
       "    <tr>\n",
       "      <th>3</th>\n",
       "      <td>4</td>\n",
       "      <td>0</td>\n",
       "    </tr>\n",
       "    <tr>\n",
       "      <th>4</th>\n",
       "      <td>5</td>\n",
       "      <td>0</td>\n",
       "    </tr>\n",
       "    <tr>\n",
       "      <th>...</th>\n",
       "      <td>...</td>\n",
       "      <td>...</td>\n",
       "    </tr>\n",
       "    <tr>\n",
       "      <th>27995</th>\n",
       "      <td>27996</td>\n",
       "      <td>0</td>\n",
       "    </tr>\n",
       "    <tr>\n",
       "      <th>27996</th>\n",
       "      <td>27997</td>\n",
       "      <td>0</td>\n",
       "    </tr>\n",
       "    <tr>\n",
       "      <th>27997</th>\n",
       "      <td>27998</td>\n",
       "      <td>0</td>\n",
       "    </tr>\n",
       "    <tr>\n",
       "      <th>27998</th>\n",
       "      <td>27999</td>\n",
       "      <td>0</td>\n",
       "    </tr>\n",
       "    <tr>\n",
       "      <th>27999</th>\n",
       "      <td>28000</td>\n",
       "      <td>0</td>\n",
       "    </tr>\n",
       "  </tbody>\n",
       "</table>\n",
       "<p>28000 rows × 2 columns</p>\n",
       "</div>"
      ],
      "text/plain": [
       "       ImageId  Label\n",
       "0            1      0\n",
       "1            2      0\n",
       "2            3      0\n",
       "3            4      0\n",
       "4            5      0\n",
       "...        ...    ...\n",
       "27995    27996      0\n",
       "27996    27997      0\n",
       "27997    27998      0\n",
       "27998    27999      0\n",
       "27999    28000      0\n",
       "\n",
       "[28000 rows x 2 columns]"
      ]
     },
     "execution_count": 8,
     "metadata": {},
     "output_type": "execute_result"
    }
   ],
   "source": [
    "sample_submission"
   ]
  },
  {
   "cell_type": "code",
   "execution_count": 9,
   "id": "2257c2b9",
   "metadata": {
    "execution": {
     "iopub.execute_input": "2022-07-22T21:44:42.177618Z",
     "iopub.status.busy": "2022-07-22T21:44:42.177191Z",
     "iopub.status.idle": "2022-07-22T21:44:42.258139Z",
     "shell.execute_reply": "2022-07-22T21:44:42.257109Z"
    },
    "papermill": {
     "duration": 0.090717,
     "end_time": "2022-07-22T21:44:42.260871",
     "exception": false,
     "start_time": "2022-07-22T21:44:42.170154",
     "status": "completed"
    },
    "tags": []
   },
   "outputs": [],
   "source": [
    "test_data = np.array(test_df)\n",
    "test_X = test_data.T\n",
    "test_X = test_X / 255."
   ]
  },
  {
   "cell_type": "code",
   "execution_count": 10,
   "id": "7f8b2d36",
   "metadata": {
    "execution": {
     "iopub.execute_input": "2022-07-22T21:44:42.281459Z",
     "iopub.status.busy": "2022-07-22T21:44:42.281114Z",
     "iopub.status.idle": "2022-07-22T21:44:42.381884Z",
     "shell.execute_reply": "2022-07-22T21:44:42.380358Z"
    },
    "papermill": {
     "duration": 0.114419,
     "end_time": "2022-07-22T21:44:42.384840",
     "exception": false,
     "start_time": "2022-07-22T21:44:42.270421",
     "status": "completed"
    },
    "tags": []
   },
   "outputs": [],
   "source": [
    "test_predictions = make_predictions(layer1_weights, layer2_weights, layer3_weights, layer1_bias, layer2_bias, layer3_bias, test_X, activation = \"mish\", output = \"prob\")"
   ]
  },
  {
   "cell_type": "code",
   "execution_count": 11,
   "id": "bce3570d",
   "metadata": {
    "execution": {
     "iopub.execute_input": "2022-07-22T21:44:42.404766Z",
     "iopub.status.busy": "2022-07-22T21:44:42.403513Z",
     "iopub.status.idle": "2022-07-22T21:44:42.412739Z",
     "shell.execute_reply": "2022-07-22T21:44:42.411712Z"
    },
    "papermill": {
     "duration": 0.021156,
     "end_time": "2022-07-22T21:44:42.415063",
     "exception": false,
     "start_time": "2022-07-22T21:44:42.393907",
     "status": "completed"
    },
    "tags": []
   },
   "outputs": [],
   "source": [
    "test_submission = pd.DataFrame(test_predictions)\n",
    "test_submission.columns = ['Label']\n",
    "test_submission.insert(0, 'ImageId', range(1, 1 + len(test_submission)))"
   ]
  },
  {
   "cell_type": "code",
   "execution_count": 12,
   "id": "f9ff946f",
   "metadata": {
    "execution": {
     "iopub.execute_input": "2022-07-22T21:44:42.433642Z",
     "iopub.status.busy": "2022-07-22T21:44:42.432557Z",
     "iopub.status.idle": "2022-07-22T21:44:42.482436Z",
     "shell.execute_reply": "2022-07-22T21:44:42.481349Z"
    },
    "papermill": {
     "duration": 0.061242,
     "end_time": "2022-07-22T21:44:42.484916",
     "exception": false,
     "start_time": "2022-07-22T21:44:42.423674",
     "status": "completed"
    },
    "tags": []
   },
   "outputs": [],
   "source": [
    "test_submission.to_csv(\"submission.csv\", index=False, header=True)"
   ]
  },
  {
   "cell_type": "code",
   "execution_count": null,
   "id": "df696a4d",
   "metadata": {
    "papermill": {
     "duration": 0.005259,
     "end_time": "2022-07-22T21:44:42.497877",
     "exception": false,
     "start_time": "2022-07-22T21:44:42.492618",
     "status": "completed"
    },
    "tags": []
   },
   "outputs": [],
   "source": []
  }
 ],
 "metadata": {
  "kernelspec": {
   "display_name": "Python 3",
   "language": "python",
   "name": "python3"
  },
  "language_info": {
   "codemirror_mode": {
    "name": "ipython",
    "version": 3
   },
   "file_extension": ".py",
   "mimetype": "text/x-python",
   "name": "python",
   "nbconvert_exporter": "python",
   "pygments_lexer": "ipython3",
   "version": "3.7.12"
  },
  "papermill": {
   "default_parameters": {},
   "duration": 452.686643,
   "end_time": "2022-07-22T21:44:43.428369",
   "environment_variables": {},
   "exception": null,
   "input_path": "__notebook__.ipynb",
   "output_path": "__notebook__.ipynb",
   "parameters": {},
   "start_time": "2022-07-22T21:37:10.741726",
   "version": "2.3.4"
  }
 },
 "nbformat": 4,
 "nbformat_minor": 5
}
